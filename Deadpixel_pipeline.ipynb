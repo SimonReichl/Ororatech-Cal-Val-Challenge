{
 "cells": [
  {
   "cell_type": "markdown",
   "id": "79c77fb2",
   "metadata": {},
   "source": [
    "# dead pixel detection\n",
    "dead pixel are defined as nan pixels\n",
    "the pipeline reads the npy files and scans from one frame to the next, checking if any nan pixels get added/removed, and updates the mask accordingly"
   ]
  },
  {
   "cell_type": "markdown",
   "id": "9362c732",
   "metadata": {},
   "source": [
    "functions"
   ]
  },
  {
   "cell_type": "code",
   "execution_count": 14,
   "id": "f71803fe",
   "metadata": {},
   "outputs": [],
   "source": [
    "import os\n",
    "import glob\n",
    "import numpy as np\n",
    "import xarray as xr\n",
    "import rasterio\n",
    "import matplotlib.pyplot as plt\n",
    "\n",
    "# Reading all npy files and extracting bands -> saving in xarray dataset named ds\n",
    "\n",
    "def load_frames_to_xarray(npy_folder):\n",
    "    def extract_number(filename):\n",
    "        # Extract the number from the filename, e.g., \"frame_12.npy\" -> 12\n",
    "        basename = os.path.basename(filename)\n",
    "        num = ''.join(filter(str.isdigit, basename))\n",
    "        return int(num) if num else -1\n",
    "\n",
    "    npy_files = sorted(glob.glob(os.path.join(npy_folder, \"*.npy\")), key=extract_number)\n",
    "    # print(\"Read order:\", npy_files)\n",
    "\n",
    "    L2_list = []\n",
    "    L1_list = []\n",
    "    M0_list = []\n",
    "\n",
    "    for f in npy_files:\n",
    "        arr = np.load(f)\n",
    "        L2 = arr[0:100, :, 0]      # L2: rows 0-100, band 0\n",
    "        L1 = arr[349:419, :, 1]    # L1: rows 349-419, band 1\n",
    "        M0 = arr[668:768, :, 2]    # M0: rows 668-767, band 2\n",
    "        L2_list.append(L2)\n",
    "        L1_list.append(L1)\n",
    "        M0_list.append(M0)\n",
    "\n",
    "    L2_arr = np.stack(L2_list)  # shape: (frame, x, y)\n",
    "    L1_arr = np.stack(L1_list)\n",
    "    M0_arr = np.stack(M0_list)\n",
    "\n",
    "    ds = xr.Dataset(\n",
    "        {\n",
    "            \"L2\": ([\"frame\", \"x_L2\", \"y_L2\"], L2_arr),\n",
    "            \"L1\": ([\"frame\", \"x_L1\", \"y_L1\"], L1_arr),\n",
    "            \"M0\": ([\"frame\", \"x_M0\", \"y_M0\"], M0_arr)\n",
    "        },\n",
    "        coords={\n",
    "            \"frame\": np.arange(L2_arr.shape[0]),\n",
    "            \"x_L2\": np.arange(L2_arr.shape[1]),\n",
    "            \"y_L2\": np.arange(L2_arr.shape[2]),\n",
    "            \"x_L1\": np.arange(L1_arr.shape[1]),\n",
    "            \"y_L1\": np.arange(L1_arr.shape[2]),\n",
    "            \"x_M0\": np.arange(M0_arr.shape[1]),\n",
    "            \"y_M0\": np.arange(M0_arr.shape[2])\n",
    "        }\n",
    "    )\n",
    "    return ds\n",
    "\n",
    "# with the mode you can choose which band to process, either \"L2\", \"L1\" or \"M0\"\n",
    "# If geotransform is provided, it will be used for saving the GeoTIFF, otherwise no georeferencing will be applied\n",
    "\n",
    "def create_dead_pixel_mask(ds, mode, out_path, transform = None):\n",
    "    if mode == \"L2\":\n",
    "        band_name = \"L2\"\n",
    "    elif mode == \"L1\":\n",
    "        band_name = \"L1\"\n",
    "    elif mode == \"M0\":\n",
    "        band_name = \"M0\"\n",
    "    else:\n",
    "        raise ValueError(\"mode must be 'L2', 'L1', or 'M0'\")\n",
    "\n",
    "    band = ds[band_name].values\n",
    "\n",
    "    # Initialize mask with NaNs from the first frame\n",
    "    current_nan_mask = np.isnan(band[0]).copy()\n",
    "\n",
    "    # Track added and removed NaNs across frames, update mask accordingly\n",
    "    for frame_idx in range(1, band.shape[0]):\n",
    "        frame_nan_mask = np.isnan(band[frame_idx])\n",
    "        current_nan_mask |= frame_nan_mask\n",
    "\n",
    "    # Save the final (updated) NaN mask as GeoTIFF\n",
    "    dead_mask_final = current_nan_mask.astype(\"float32\") * 10000\n",
    "    band_out_path = os.path.join(out_path, f\"dead_pixel_mask_{band_name}.tif\")\n",
    "    with rasterio.open(\n",
    "        band_out_path,\n",
    "        \"w\",\n",
    "        driver=\"GTiff\",\n",
    "        height=dead_mask_final.shape[0],\n",
    "        width=dead_mask_final.shape[1],\n",
    "        count=1,\n",
    "        dtype=\"float32\",\n",
    "        transform=transform,\n",
    "        crs=\"EPSG:4326\"\n",
    "    ) as dst:\n",
    "        dst.write(dead_mask_final, 1)\n",
    "\n",
    "    print(f\"Dead pixel mask (all frames) saved at: {band_out_path}\")\n",
    "    return dead_mask_final"
   ]
  },
  {
   "cell_type": "markdown",
   "id": "1af0a310",
   "metadata": {},
   "source": [
    "example pipeline"
   ]
  },
  {
   "cell_type": "code",
   "execution_count": null,
   "id": "1e5f90c3",
   "metadata": {},
   "outputs": [
    {
     "name": "stdout",
     "output_type": "stream",
     "text": [
      "Dead pixel mask (all frames) saved at: /Users/simonreichl/Desktop/Cal_Val working student challenge/output/dead_pixel_mask_L2.tif\n",
      "[[0. 0. 0. ... 0. 0. 0.]\n",
      " [0. 0. 0. ... 0. 0. 0.]\n",
      " [0. 0. 0. ... 0. 0. 0.]\n",
      " ...\n",
      " [0. 0. 0. ... 0. 0. 0.]\n",
      " [0. 0. 0. ... 0. 0. 0.]\n",
      " [0. 0. 0. ... 0. 0. 0.]]\n"
     ]
    }
   ],
   "source": [
    "npy_folder = \"/frames\"  # Replace with your npy files folder\n",
    "out_path = \"/output\"  # Replace with your desired output folder\n",
    "mode = \"L2\"  # Choose between \"L2\", \"L1\", or \"M0\"\n",
    "\n",
    "ds = load_frames_to_xarray(npy_folder)\n",
    "dead_mask = create_dead_pixel_mask(ds, mode, out_path, transform=None)\n"
   ]
  }
 ],
 "metadata": {
  "kernelspec": {
   "display_name": "sentinel2",
   "language": "python",
   "name": "python3"
  },
  "language_info": {
   "codemirror_mode": {
    "name": "ipython",
    "version": 3
   },
   "file_extension": ".py",
   "mimetype": "text/x-python",
   "name": "python",
   "nbconvert_exporter": "python",
   "pygments_lexer": "ipython3",
   "version": "3.10.18"
  }
 },
 "nbformat": 4,
 "nbformat_minor": 5
}
